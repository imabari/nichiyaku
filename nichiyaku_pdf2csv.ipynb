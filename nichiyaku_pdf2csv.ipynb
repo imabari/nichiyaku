{
  "nbformat": 4,
  "nbformat_minor": 0,
  "metadata": {
    "colab": {
      "name": "nichiyaku_pdf2csv.ipynb",
      "provenance": [],
      "authorship_tag": "ABX9TyP2yZdzjDsKYqWS+bA97G3S",
      "include_colab_link": true
    },
    "kernelspec": {
      "name": "python3",
      "display_name": "Python 3"
    }
  },
  "cells": [
    {
      "cell_type": "markdown",
      "metadata": {
        "id": "view-in-github",
        "colab_type": "text"
      },
      "source": [
        "<a href=\"https://colab.research.google.com/github/imabari/nichiyaku/blob/main/nichiyaku_pdf2csv.ipynb\" target=\"_parent\"><img src=\"https://colab.research.google.com/assets/colab-badge.svg\" alt=\"Open In Colab\"/></a>"
      ]
    },
    {
      "cell_type": "code",
      "metadata": {
        "id": "eZETmA7pw5ur"
      },
      "source": [
        "!pip install pdfplumber"
      ],
      "execution_count": null,
      "outputs": []
    },
    {
      "cell_type": "code",
      "metadata": {
        "id": "Dc2WntPp6L4U"
      },
      "source": [
        "import pathlib\n",
        "import time\n",
        "from urllib.parse import urljoin"
      ],
      "execution_count": null,
      "outputs": []
    },
    {
      "cell_type": "code",
      "metadata": {
        "id": "-t-smso56L4V"
      },
      "source": [
        "import pandas as pd\r\n",
        "import pdfplumber\r\n",
        "import requests\r\n",
        "from bs4 import BeautifulSoup\r\n",
        "from tqdm.notebook import tqdm"
      ],
      "execution_count": null,
      "outputs": []
    },
    {
      "cell_type": "code",
      "metadata": {
        "id": "mNGl6ebk6L4W"
      },
      "source": [
        "headers = {\r\n",
        "    \"User-Agent\": \"Mozilla/5.0 (Windows NT 10.0; WOW64; Trident/7.0; rv:11.0) like Gecko\"\r\n",
        "}"
      ],
      "execution_count": null,
      "outputs": []
    },
    {
      "cell_type": "code",
      "metadata": {
        "id": "igk2hfFr6L4W"
      },
      "source": [
        "def fetch_soup(url, parser=\"html.parser\"):\r\n",
        "\r\n",
        "    r = requests.get(url, headers=headers)\r\n",
        "    r.raise_for_status()\r\n",
        "\r\n",
        "    soup = BeautifulSoup(r.content, parser)\r\n",
        "\r\n",
        "    return soup"
      ],
      "execution_count": null,
      "outputs": []
    },
    {
      "cell_type": "code",
      "metadata": {
        "id": "YhNX4Lds6L4X"
      },
      "source": [
        "def fetch_file(url, dir=\".\"):\r\n",
        "\r\n",
        "    p = pathlib.Path(dir, pathlib.PurePath(url).name)\r\n",
        "    p.parent.mkdir(parents=True, exist_ok=True)\r\n",
        "\r\n",
        "    # 同一ファイル名の場合はダウンロードしない\r\n",
        "    if not p.exists():\r\n",
        "\r\n",
        "        r = requests.get(url)\r\n",
        "\r\n",
        "        with p.open(mode=\"wb\") as fw:\r\n",
        "            fw.write(r.content)\r\n",
        "\r\n",
        "    return p"
      ],
      "execution_count": null,
      "outputs": []
    },
    {
      "cell_type": "markdown",
      "metadata": {
        "id": "Yd4Wd-9lHGea"
      },
      "source": [
        "# スクレイピング"
      ]
    },
    {
      "cell_type": "code",
      "metadata": {
        "id": "mRkMkCR56L4Y"
      },
      "source": [
        "url = \"https://www.nichiyaku.or.jp/activities/division/faqShinchoku.html\"\r\n",
        "\r\n",
        "soup = fetch_soup(url)\r\n",
        "\r\n",
        "# PDFのURLを抽出\r\n",
        "links = [urljoin(url, i.get(\"href\")) for i in soup.select(\"section.section a.btn-pdf\")]"
      ],
      "execution_count": null,
      "outputs": []
    },
    {
      "cell_type": "markdown",
      "metadata": {
        "id": "CaMEt12VHKc6"
      },
      "source": [
        "# PDF変換"
      ]
    },
    {
      "cell_type": "code",
      "metadata": {
        "id": "FjlIkOHhw5ux"
      },
      "source": [
        "table_settings = {\n",
        "    \"vertical_strategy\": \"lines\",\n",
        "    \"horizontal_strategy\": \"text\",\n",
        "    \"intersection_tolerance\": 5,\n",
        "}"
      ],
      "execution_count": null,
      "outputs": []
    },
    {
      "cell_type": "code",
      "metadata": {
        "id": "FuBtOiAI7pGh"
      },
      "source": [
        "for link in tqdm(links):\r\n",
        "\r\n",
        "    # PDFファイルをダウンロード\r\n",
        "    path_pdf = fetch_file(link, \"pdf\")\r\n",
        "\r\n",
        "    with pdfplumber.open(path_pdf) as pdf:\r\n",
        "\r\n",
        "        page = pdf.pages[0]\r\n",
        "\r\n",
        "        # PDFの表をテキスト変換\r\n",
        "        table = page.extract_table(table_settings)\r\n",
        "\r\n",
        "        # CSV加工用に一時pandasで読み込み\r\n",
        "        df = pd.DataFrame(table)\r\n",
        "\r\n",
        "        # ヘッダー1行目の結合セルを補完\r\n",
        "        df.iloc[0] = df.iloc[0].fillna(method=\"ffill\")\r\n",
        "\r\n",
        "        # 保存用にPDFファイル名の拡張子をCSVに変更\r\n",
        "        path_csv = pathlib.Path(\"csv\", path_pdf.with_suffix(\".csv\").name)\r\n",
        "        path_csv.parent.mkdir(parents=True, exist_ok=True)\r\n",
        "\r\n",
        "        df.to_csv(path_csv, encoding=\"utf_8_sig\", index=False, header=False)\r\n",
        "    \r\n",
        "    # サーバー負荷軽減のため3秒待機\r\n",
        "    time.sleep(3)"
      ],
      "execution_count": null,
      "outputs": []
    },
    {
      "cell_type": "code",
      "metadata": {
        "id": "cUfyw8NYAghJ"
      },
      "source": [
        "# ファイル圧縮\r\n",
        "!zip -r csv.zip csv"
      ],
      "execution_count": null,
      "outputs": []
    },
    {
      "cell_type": "code",
      "metadata": {
        "id": "CqKMCf6vF2KC"
      },
      "source": [
        "# ダウンロード\n",
        "from google.colab import files\n",
        "\n",
        "files.download(\"csv.zip\")"
      ],
      "execution_count": null,
      "outputs": []
    }
  ]
}